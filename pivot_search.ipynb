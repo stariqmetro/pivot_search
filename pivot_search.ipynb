{
 "cells": [
  {
   "cell_type": "code",
   "execution_count": 63,
   "metadata": {},
   "outputs": [],
   "source": [
    "def find_pivot(arr, index = 0):\n",
    "    # left number\n",
    "    left = arr[index]\n",
    "    # right index\n",
    "    r_index = len(arr) - index - 1\n",
    "    # right number\n",
    "    right = arr[r_index]\n",
    "    # when the right number is greater than left, we have reached harmony\n",
    "    if left <= right:\n",
    "        # if there is a number after right and right is bigger than number after right\n",
    "        if r_index < len(arr) - 1 and right >= arr[r_index + 1]:\n",
    "            return r_index\n",
    "        # else return index\n",
    "        else:\n",
    "            return index if index == 0 else index - 1\n",
    "    return find_pivot(arr, index + 1)"
   ]
  },
  {
   "cell_type": "code",
   "execution_count": 6,
   "metadata": {},
   "outputs": [],
   "source": [
    "def binary_search(arr, target):\n",
    "    # Store len of arr in n\n",
    "    n = len(arr)\n",
    "    # If arr only has one item and it's not target\n",
    "    if n == 1 and arr[0] != target:\n",
    "        # Return -1\n",
    "        return -1\n",
    "    # If arr is empty\n",
    "    if n == 0:\n",
    "        # Return -1\n",
    "        return -1\n",
    "    # Go to the middle of the arr\n",
    "    mid = n // 2\n",
    "    # If the target is the middle number\n",
    "    if arr[mid] == target:\n",
    "        # Return the middle's index\n",
    "        return mid\n",
    "    # If the target is bigger than the middle number\n",
    "    if arr[mid] < target:\n",
    "        # Store result of binary_search(arr[middle+1:]) in k\n",
    "        k = binary_search(arr[mid + 1:], target)\n",
    "        # Return middle's index + 1 + k if k is not -1 else -1\n",
    "        return mid + 1 + k if k != -1 else k\n",
    "    # If the target is smaller than the middle number\n",
    "    if target < arr[mid]:\n",
    "        # Store result of binary_search(arr[:middle]) in k\n",
    "        k = binary_search(arr[:mid], target)\n",
    "        # Return k\n",
    "        return k\n",
    "    "
   ]
  },
  {
   "cell_type": "code",
   "execution_count": 34,
   "metadata": {},
   "outputs": [],
   "source": [
    "def find_target(arr, target):\n",
    "    n = len(arr)\n",
    "    if n == 0:\n",
    "        return -1\n",
    "    if n == 1 and arr[0] != target:\n",
    "        return -1\n",
    "    pivot_index = find_pivot(arr)\n",
    "    if target == arr[pivot_index]:\n",
    "        return pivot_index\n",
    "    if target >= arr[0] and target < arr[pivot_index]:\n",
    "        # Find target in the first arr[:pivot_index]\n",
    "        return binary_search(arr[:pivot_index], target)\n",
    "    # Find target in the sec arr[pivot_index + 1:]\n",
    "    k = binary_search(arr[pivot_index + 1:], target)\n",
    "    return pivot_index + 1 + k if k != -1 else -1"
   ]
  },
  {
   "cell_type": "code",
   "execution_count": 64,
   "metadata": {},
   "outputs": [
    {
     "data": {
      "text/plain": [
       "3"
      ]
     },
     "execution_count": 64,
     "metadata": {},
     "output_type": "execute_result"
    }
   ],
   "source": [
    "find_pivot([4,5,6,7,0,1,2])"
   ]
  },
  {
   "cell_type": "code",
   "execution_count": 65,
   "metadata": {},
   "outputs": [
    {
     "data": {
      "text/plain": [
       "5"
      ]
     },
     "execution_count": 65,
     "metadata": {},
     "output_type": "execute_result"
    }
   ],
   "source": [
    "find_pivot([4, 5, 6, 7, 8, 9, 0, 1, 2])"
   ]
  },
  {
   "cell_type": "code",
   "execution_count": 66,
   "metadata": {},
   "outputs": [
    {
     "data": {
      "text/plain": [
       "0"
      ]
     },
     "execution_count": 66,
     "metadata": {},
     "output_type": "execute_result"
    }
   ],
   "source": [
    "find_pivot([3, 1])"
   ]
  },
  {
   "cell_type": "code",
   "execution_count": 67,
   "metadata": {},
   "outputs": [
    {
     "data": {
      "text/plain": [
       "0"
      ]
     },
     "execution_count": 67,
     "metadata": {},
     "output_type": "execute_result"
    }
   ],
   "source": [
    "find_pivot([7, 0, 2])"
   ]
  },
  {
   "cell_type": "code",
   "execution_count": 68,
   "metadata": {},
   "outputs": [
    {
     "data": {
      "text/plain": [
       "0"
      ]
     },
     "execution_count": 68,
     "metadata": {},
     "output_type": "execute_result"
    }
   ],
   "source": [
    "find_pivot([0, 5, 7])"
   ]
  },
  {
   "cell_type": "code",
   "execution_count": 69,
   "metadata": {},
   "outputs": [
    {
     "data": {
      "text/plain": [
       "0"
      ]
     },
     "execution_count": 69,
     "metadata": {},
     "output_type": "execute_result"
    }
   ],
   "source": [
    "find_pivot([7, 2, 3, 4, 5])"
   ]
  },
  {
   "cell_type": "code",
   "execution_count": 70,
   "metadata": {},
   "outputs": [
    {
     "data": {
      "text/plain": [
       "0"
      ]
     },
     "execution_count": 70,
     "metadata": {},
     "output_type": "execute_result"
    }
   ],
   "source": [
    "find_target([3, 1], 3)"
   ]
  },
  {
   "cell_type": "code",
   "execution_count": 71,
   "metadata": {},
   "outputs": [
    {
     "data": {
      "text/plain": [
       "-1"
      ]
     },
     "execution_count": 71,
     "metadata": {},
     "output_type": "execute_result"
    }
   ],
   "source": [
    "find_target([3, 1], 0)"
   ]
  },
  {
   "cell_type": "code",
   "execution_count": 72,
   "metadata": {},
   "outputs": [
    {
     "data": {
      "text/plain": [
       "1"
      ]
     },
     "execution_count": 72,
     "metadata": {},
     "output_type": "execute_result"
    }
   ],
   "source": [
    "find_target([1, 3], 3)"
   ]
  },
  {
   "cell_type": "code",
   "execution_count": 75,
   "metadata": {},
   "outputs": [
    {
     "data": {
      "text/plain": [
       "4"
      ]
     },
     "execution_count": 75,
     "metadata": {},
     "output_type": "execute_result"
    }
   ],
   "source": [
    "find_target([4, 5, 6, 7, 0, 1 , 2], 0)"
   ]
  },
  {
   "cell_type": "code",
   "execution_count": 13,
   "metadata": {},
   "outputs": [],
   "source": [
    "def find_target2(arr, target):\n",
    "    start = 0\n",
    "    end = len(arr) - 1\n",
    "    while start <= end:\n",
    "        mid = (start + end) // 2\n",
    "        if arr[mid] == target:\n",
    "            return mid\n",
    "        \n",
    "        if arr[start] <= arr[mid]:\n",
    "            if arr[start] <= target < arr[end]:\n",
    "                end = mid - 1\n",
    "            else:\n",
    "                start = start + 1\n",
    "        else:\n",
    "            if arr[mid] < target <= arr[end]:\n",
    "                start = mid + 1\n",
    "            else:\n",
    "                end = end - 1\n",
    "    return -1"
   ]
  },
  {
   "cell_type": "code",
   "execution_count": 14,
   "metadata": {},
   "outputs": [
    {
     "data": {
      "text/plain": [
       "-1"
      ]
     },
     "execution_count": 14,
     "metadata": {},
     "output_type": "execute_result"
    }
   ],
   "source": [
    "find_target2([3, 5, 1], 3)"
   ]
  },
  {
   "cell_type": "code",
   "execution_count": 15,
   "metadata": {},
   "outputs": [
    {
     "data": {
      "text/plain": [
       "0"
      ]
     },
     "execution_count": 15,
     "metadata": {},
     "output_type": "execute_result"
    }
   ],
   "source": [
    "find_target([3, 5, 1], 3)"
   ]
  }
 ],
 "metadata": {
  "kernelspec": {
   "display_name": "Python 3",
   "language": "python",
   "name": "python3"
  },
  "language_info": {
   "codemirror_mode": {
    "name": "ipython",
    "version": 3
   },
   "file_extension": ".py",
   "mimetype": "text/x-python",
   "name": "python",
   "nbconvert_exporter": "python",
   "pygments_lexer": "ipython3",
   "version": "3.11.9"
  }
 },
 "nbformat": 4,
 "nbformat_minor": 2
}
